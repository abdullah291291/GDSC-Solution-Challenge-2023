{
 "cells": [
  {
   "cell_type": "markdown",
   "id": "aac0274c",
   "metadata": {
    "id": "aac0274c"
   },
   "source": [
    "### Importing Necessary Modules"
   ]
  },
  {
   "cell_type": "code",
   "execution_count": 1,
   "id": "9cfxBowcfyfo",
   "metadata": {
    "colab": {
     "base_uri": "https://localhost:8080/"
    },
    "id": "9cfxBowcfyfo",
    "outputId": "c49288e7-ce59-4059-b49c-fa4aac36f5ea"
   },
   "outputs": [
    {
     "name": "stdout",
     "output_type": "stream",
     "text": [
      "Mounted at /content/drive\n"
     ]
    }
   ],
   "source": [
    "from google.colab import drive\n",
    "drive.mount('/content/drive')"
   ]
  },
  {
   "cell_type": "code",
   "execution_count": 5,
   "id": "75c4ce03",
   "metadata": {
    "id": "75c4ce03"
   },
   "outputs": [],
   "source": [
    "import pandas as pd\n",
    "import numpy as np\n",
    "from sklearn import preprocessing\n",
    "\n",
    "import tensorflow\n",
    "from tensorflow import keras\n",
    "from tensorflow.keras import layers\n",
    "from keras.callbacks import ModelCheckpoint\n",
    "from keras.models import Sequential\n",
    "from tensorflow.keras.layers import Dense, Activation, Embedding, Flatten, MaxPooling1D, Dropout, Conv1D, Input, LSTM, SpatialDropout1D, Bidirectional\n",
    "from keras.preprocessing.text import Tokenizer\n",
    "from tensorflow.keras.preprocessing.sequence import pad_sequences\n",
    "from keras.utils import to_categorical\n",
    "from keras.layers import Embedding\n",
    "\n",
    "from transformers import AutoTokenizer, TFAutoModelForSequenceClassification\n",
    "import tensorflow as tf\n",
    "from sklearn.model_selection import train_test_split\n",
    "from transformers import TFDistilBertForSequenceClassification, DistilBertTokenizerFast"
   ]
  },
  {
   "cell_type": "markdown",
   "id": "3aac1121",
   "metadata": {
    "id": "3aac1121"
   },
   "source": [
    "## Loading the Data File"
   ]
  },
  {
   "cell_type": "code",
   "execution_count": 4,
   "id": "e8a018d7",
   "metadata": {
    "colab": {
     "base_uri": "https://localhost:8080/",
     "height": 423
    },
    "id": "e8a018d7",
    "outputId": "86727f29-5e6f-45ef-f811-cb71a8361dda"
   },
   "outputs": [
    {
     "data": {
      "text/html": [
       "\n",
       "  <div id=\"df-e789f8ba-03d3-4c6a-947b-46f15c44b33c\">\n",
       "    <div class=\"colab-df-container\">\n",
       "      <div>\n",
       "<style scoped>\n",
       "    .dataframe tbody tr th:only-of-type {\n",
       "        vertical-align: middle;\n",
       "    }\n",
       "\n",
       "    .dataframe tbody tr th {\n",
       "        vertical-align: top;\n",
       "    }\n",
       "\n",
       "    .dataframe thead th {\n",
       "        text-align: right;\n",
       "    }\n",
       "</style>\n",
       "<table border=\"1\" class=\"dataframe\">\n",
       "  <thead>\n",
       "    <tr style=\"text-align: right;\">\n",
       "      <th></th>\n",
       "      <th>text</th>\n",
       "      <th>is_depressed</th>\n",
       "    </tr>\n",
       "  </thead>\n",
       "  <tbody>\n",
       "    <tr>\n",
       "      <th>0</th>\n",
       "      <td>hi really know phrase situation try life reall...</td>\n",
       "      <td>Not-Depressed</td>\n",
       "    </tr>\n",
       "    <tr>\n",
       "      <th>1</th>\n",
       "      <td>depressed past couple week ever since got back...</td>\n",
       "      <td>Depressed</td>\n",
       "    </tr>\n",
       "    <tr>\n",
       "      <th>2</th>\n",
       "      <td>hi know else go devastated right feeling like ...</td>\n",
       "      <td>Not-Depressed</td>\n",
       "    </tr>\n",
       "    <tr>\n",
       "      <th>3</th>\n",
       "      <td>shit like get better everyone purpose need fin...</td>\n",
       "      <td>Depressed</td>\n",
       "    </tr>\n",
       "    <tr>\n",
       "      <th>4</th>\n",
       "      <td>wish wa prettier wish feel like burden wish br...</td>\n",
       "      <td>Not-Depressed</td>\n",
       "    </tr>\n",
       "    <tr>\n",
       "      <th>...</th>\n",
       "      <td>...</td>\n",
       "      <td>...</td>\n",
       "    </tr>\n",
       "    <tr>\n",
       "      <th>261695</th>\n",
       "      <td>If you don't like rock then your not going to ...</td>\n",
       "      <td>Not-Depressed</td>\n",
       "    </tr>\n",
       "    <tr>\n",
       "      <th>261696</th>\n",
       "      <td>You how you can tell i have so many friends an...</td>\n",
       "      <td>Not-Depressed</td>\n",
       "    </tr>\n",
       "    <tr>\n",
       "      <th>261697</th>\n",
       "      <td>pee probably tastes like salty tea😏💦‼️ can som...</td>\n",
       "      <td>Not-Depressed</td>\n",
       "    </tr>\n",
       "    <tr>\n",
       "      <th>261698</th>\n",
       "      <td>The usual stuff you find hereI'm not posting t...</td>\n",
       "      <td>Depressed</td>\n",
       "    </tr>\n",
       "    <tr>\n",
       "      <th>261699</th>\n",
       "      <td>I still haven't beaten the first boss in Hollo...</td>\n",
       "      <td>Not-Depressed</td>\n",
       "    </tr>\n",
       "  </tbody>\n",
       "</table>\n",
       "<p>261700 rows × 2 columns</p>\n",
       "</div>\n",
       "      <button class=\"colab-df-convert\" onclick=\"convertToInteractive('df-e789f8ba-03d3-4c6a-947b-46f15c44b33c')\"\n",
       "              title=\"Convert this dataframe to an interactive table.\"\n",
       "              style=\"display:none;\">\n",
       "        \n",
       "  <svg xmlns=\"http://www.w3.org/2000/svg\" height=\"24px\"viewBox=\"0 0 24 24\"\n",
       "       width=\"24px\">\n",
       "    <path d=\"M0 0h24v24H0V0z\" fill=\"none\"/>\n",
       "    <path d=\"M18.56 5.44l.94 2.06.94-2.06 2.06-.94-2.06-.94-.94-2.06-.94 2.06-2.06.94zm-11 1L8.5 8.5l.94-2.06 2.06-.94-2.06-.94L8.5 2.5l-.94 2.06-2.06.94zm10 10l.94 2.06.94-2.06 2.06-.94-2.06-.94-.94-2.06-.94 2.06-2.06.94z\"/><path d=\"M17.41 7.96l-1.37-1.37c-.4-.4-.92-.59-1.43-.59-.52 0-1.04.2-1.43.59L10.3 9.45l-7.72 7.72c-.78.78-.78 2.05 0 2.83L4 21.41c.39.39.9.59 1.41.59.51 0 1.02-.2 1.41-.59l7.78-7.78 2.81-2.81c.8-.78.8-2.07 0-2.86zM5.41 20L4 18.59l7.72-7.72 1.47 1.35L5.41 20z\"/>\n",
       "  </svg>\n",
       "      </button>\n",
       "      \n",
       "  <style>\n",
       "    .colab-df-container {\n",
       "      display:flex;\n",
       "      flex-wrap:wrap;\n",
       "      gap: 12px;\n",
       "    }\n",
       "\n",
       "    .colab-df-convert {\n",
       "      background-color: #E8F0FE;\n",
       "      border: none;\n",
       "      border-radius: 50%;\n",
       "      cursor: pointer;\n",
       "      display: none;\n",
       "      fill: #1967D2;\n",
       "      height: 32px;\n",
       "      padding: 0 0 0 0;\n",
       "      width: 32px;\n",
       "    }\n",
       "\n",
       "    .colab-df-convert:hover {\n",
       "      background-color: #E2EBFA;\n",
       "      box-shadow: 0px 1px 2px rgba(60, 64, 67, 0.3), 0px 1px 3px 1px rgba(60, 64, 67, 0.15);\n",
       "      fill: #174EA6;\n",
       "    }\n",
       "\n",
       "    [theme=dark] .colab-df-convert {\n",
       "      background-color: #3B4455;\n",
       "      fill: #D2E3FC;\n",
       "    }\n",
       "\n",
       "    [theme=dark] .colab-df-convert:hover {\n",
       "      background-color: #434B5C;\n",
       "      box-shadow: 0px 1px 3px 1px rgba(0, 0, 0, 0.15);\n",
       "      filter: drop-shadow(0px 1px 2px rgba(0, 0, 0, 0.3));\n",
       "      fill: #FFFFFF;\n",
       "    }\n",
       "  </style>\n",
       "\n",
       "      <script>\n",
       "        const buttonEl =\n",
       "          document.querySelector('#df-e789f8ba-03d3-4c6a-947b-46f15c44b33c button.colab-df-convert');\n",
       "        buttonEl.style.display =\n",
       "          google.colab.kernel.accessAllowed ? 'block' : 'none';\n",
       "\n",
       "        async function convertToInteractive(key) {\n",
       "          const element = document.querySelector('#df-e789f8ba-03d3-4c6a-947b-46f15c44b33c');\n",
       "          const dataTable =\n",
       "            await google.colab.kernel.invokeFunction('convertToInteractive',\n",
       "                                                     [key], {});\n",
       "          if (!dataTable) return;\n",
       "\n",
       "          const docLinkHtml = 'Like what you see? Visit the ' +\n",
       "            '<a target=\"_blank\" href=https://colab.research.google.com/notebooks/data_table.ipynb>data table notebook</a>'\n",
       "            + ' to learn more about interactive tables.';\n",
       "          element.innerHTML = '';\n",
       "          dataTable['output_type'] = 'display_data';\n",
       "          await google.colab.output.renderOutput(dataTable, element);\n",
       "          const docLink = document.createElement('div');\n",
       "          docLink.innerHTML = docLinkHtml;\n",
       "          element.appendChild(docLink);\n",
       "        }\n",
       "      </script>\n",
       "    </div>\n",
       "  </div>\n",
       "  "
      ],
      "text/plain": [
       "                                                     text   is_depressed\n",
       "0       hi really know phrase situation try life reall...  Not-Depressed\n",
       "1       depressed past couple week ever since got back...      Depressed\n",
       "2       hi know else go devastated right feeling like ...  Not-Depressed\n",
       "3       shit like get better everyone purpose need fin...      Depressed\n",
       "4       wish wa prettier wish feel like burden wish br...  Not-Depressed\n",
       "...                                                   ...            ...\n",
       "261695  If you don't like rock then your not going to ...  Not-Depressed\n",
       "261696  You how you can tell i have so many friends an...  Not-Depressed\n",
       "261697  pee probably tastes like salty tea😏💦‼️ can som...  Not-Depressed\n",
       "261698  The usual stuff you find hereI'm not posting t...      Depressed\n",
       "261699  I still haven't beaten the first boss in Hollo...  Not-Depressed\n",
       "\n",
       "[261700 rows x 2 columns]"
      ]
     },
     "execution_count": 4,
     "metadata": {},
     "output_type": "execute_result"
    }
   ],
   "source": [
    "df = pd.read_csv('/content/drive/MyDrive/FData.csv')\n",
    "df = df[['text','is_depressed']]\n",
    "df"
   ]
  },
  {
   "cell_type": "code",
   "execution_count": null,
   "id": "76181977",
   "metadata": {},
   "outputs": [],
   "source": [
    "df.is_depressed.value_counts()"
   ]
  },
  {
   "cell_type": "code",
   "execution_count": null,
   "id": "8be081ed",
   "metadata": {
    "id": "8be081ed"
   },
   "outputs": [],
   "source": [
    "# preprocess data\n",
    "tokenizer = Tokenizer(num_words=5000)\n",
    "tokenizer.fit_on_texts(data['text'])\n",
    "X = tokenizer.texts_to_sequences(data['text'])\n",
    "X = pad_sequences(X, maxlen=100)\n",
    "\n",
    "# define labels\n",
    "y = pd.get_dummies(data['is_depressed']).values\n",
    "\n",
    "# split data into training and testing sets\n",
    "X_train, X_test, y_train, y_test = train_test_split(X, y, test_size=0.2, random_state=42)"
   ]
  },
  {
   "cell_type": "markdown",
   "id": "296731af",
   "metadata": {
    "id": "296731af"
   },
   "source": [
    "## Model"
   ]
  },
  {
   "cell_type": "markdown",
   "id": "5cceed48",
   "metadata": {},
   "source": [
    "The first layer is an Embedding layer with input_dim=5000, output_dim=128, and input_length=100, which means it will convert the input sequence of integers (with values between 0 and 4999) into a dense vector representation of length 128. The input_length is set to 100, which means that the input sequence is expected to have a length of 100 integers.\n",
    "\n",
    "The second layer is an LSTM layer with 64 units, which means it has 64 memory cells. The dropout parameter is set to 0.2, which means that 20% of the inputs will be randomly set to 0 during training to prevent overfitting. The recurrent_dropout parameter is also set to 0.2, which means that 20% of the recurrent connections will be randomly set to 0 during training.\n",
    "\n",
    "The third and final layer is a Dense layer with 2 units and a sigmoid activation function. This layer will produce two output values between 0 and 1, representing the probabilities of the input sequence belonging to each of the two classes. \n",
    "\n",
    "The model is compiled with binary_crossentropy as the loss function, adam as the optimizer, and accuracy as the metric to be optimized during training."
   ]
  },
  {
   "cell_type": "code",
   "execution_count": 12,
   "id": "6VAOCYA1kQfm",
   "metadata": {
    "colab": {
     "base_uri": "https://localhost:8080/"
    },
    "id": "6VAOCYA1kQfm",
    "outputId": "530872eb-4a41-49a4-9f94-a0fca1467d1a"
   },
   "outputs": [
    {
     "name": "stderr",
     "output_type": "stream",
     "text": [
      "WARNING:tensorflow:Layer lstm will not use cuDNN kernels since it doesn't meet the criteria. It will use a generic GPU kernel as fallback when running on GPU.\n"
     ]
    },
    {
     "name": "stdout",
     "output_type": "stream",
     "text": [
      "Epoch 1/5\n",
      "2014/2014 [==============================] - 980s 483ms/step - loss: 0.2610 - accuracy: 0.8965 - val_loss: 0.2309 - val_accuracy: 0.9086\n",
      "Epoch 2/5\n",
      "2014/2014 [==============================] - 925s 459ms/step - loss: 0.2197 - accuracy: 0.9127 - val_loss: 0.2241 - val_accuracy: 0.9103\n",
      "Epoch 3/5\n",
      "2014/2014 [==============================] - 914s 454ms/step - loss: 0.1999 - accuracy: 0.9205 - val_loss: 0.2232 - val_accuracy: 0.9121\n",
      "Epoch 4/5\n",
      "2014/2014 [==============================] - 915s 454ms/step - loss: 0.1848 - accuracy: 0.9263 - val_loss: 0.2247 - val_accuracy: 0.9111\n",
      "Epoch 5/5\n",
      "2014/2014 [==============================] - 914s 454ms/step - loss: 0.1710 - accuracy: 0.9317 - val_loss: 0.2331 - val_accuracy: 0.9118\n",
      "1636/1636 [==============================] - 54s 33ms/step - loss: 0.2331 - accuracy: 0.9118\n",
      "Test accuracy: 0.9117692112922668\n"
     ]
    }
   ],
   "source": [
    "# build model\n",
    "model = Sequential()\n",
    "model.add(Embedding(input_dim=5000, output_dim=128, input_length=100))\n",
    "model.add(LSTM(units=64, dropout=0.2, recurrent_dropout=0.2))\n",
    "model.add(Dense(units=2, activation='sigmoid'))\n",
    "\n",
    "model.compile(loss='binary_crossentropy', optimizer='adam', metrics=['accuracy'])\n",
    "\n",
    "# train model\n",
    "model.fit(X_train, y_train, validation_data=(X_test, y_test), epochs=5, batch_size=104)\n",
    "\n",
    "# evaluate model\n",
    "loss, accuracy = model.evaluate(X_test, y_test)\n",
    "print('Test accuracy:', accuracy)"
   ]
  },
  {
   "cell_type": "markdown",
   "id": "d350b712",
   "metadata": {},
   "source": [
    "### Saving the Model"
   ]
  },
  {
   "cell_type": "code",
   "execution_count": 3,
   "id": "2900e564",
   "metadata": {},
   "outputs": [],
   "source": [
    "model.save(\"Final_model\")"
   ]
  },
  {
   "cell_type": "markdown",
   "id": "aad6047e",
   "metadata": {},
   "source": [
    "### Loading the Model"
   ]
  },
  {
   "cell_type": "code",
   "execution_count": 6,
   "id": "5deea4e7",
   "metadata": {},
   "outputs": [],
   "source": [
    "model = keras.models.load_model('Final_model')"
   ]
  },
  {
   "cell_type": "markdown",
   "id": "b1ae63db",
   "metadata": {},
   "source": [
    "### Making the Predictions"
   ]
  },
  {
   "cell_type": "code",
   "execution_count": 7,
   "id": "152ac9e2",
   "metadata": {},
   "outputs": [],
   "source": [
    "pexample1 = \"As I lay in bed, unable to shake off the heavy weight of despair that seemed to suffocate me, I couldn't help but feel like a mere shadow of the person I used to be, drained of all motivation, hope, and joy.\"\n",
    "pexample2 = \"I got D grade in my exam even I was fully prepared. I think only solution to get rid of this badluck is to sue myself.\"\n",
    "\n",
    "ptest = [pexample1,pexample2]"
   ]
  },
  {
   "cell_type": "code",
   "execution_count": 8,
   "id": "f4185ca7",
   "metadata": {},
   "outputs": [
    {
     "name": "stdout",
     "output_type": "stream",
     "text": [
      "1/1 [==============================] - 0s 213ms/step\n",
      "Depressed\n",
      "Depressed\n"
     ]
    }
   ],
   "source": [
    "tokenizer = Tokenizer(num_words=5000)\n",
    "test=tokenizer.texts_to_sequences(ptest)\n",
    "test=pad_sequences(test, maxlen=100)\n",
    "dic={0:'Not-Depressed',1:'Depressed'}\n",
    "\n",
    "for i in model.predict(test):\n",
    "    print(dic[np.argmax(i)])"
   ]
  },
  {
   "cell_type": "code",
   "execution_count": null,
   "id": "c309d7fd",
   "metadata": {},
   "outputs": [],
   "source": []
  }
 ],
 "metadata": {
  "accelerator": "GPU",
  "colab": {
   "provenance": []
  },
  "gpuClass": "standard",
  "kernelspec": {
   "display_name": "Python 3 (ipykernel)",
   "language": "python",
   "name": "python3"
  },
  "language_info": {
   "codemirror_mode": {
    "name": "ipython",
    "version": 3
   },
   "file_extension": ".py",
   "mimetype": "text/x-python",
   "name": "python",
   "nbconvert_exporter": "python",
   "pygments_lexer": "ipython3",
   "version": "3.9.13"
  }
 },
 "nbformat": 4,
 "nbformat_minor": 5
}
